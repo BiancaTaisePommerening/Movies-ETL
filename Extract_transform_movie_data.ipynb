{
 "cells": [
  {
   "cell_type": "code",
   "execution_count": null,
   "id": "f8992d0f",
   "metadata": {},
   "outputs": [],
   "source": [
    "import json\n",
    "import pandas as pd\n",
    "import numpy as np"
   ]
  },
  {
   "cell_type": "code",
   "execution_count": null,
   "id": "c926fb84",
   "metadata": {},
   "outputs": [],
   "source": [
    "file_dir = './Data/'\n"
   ]
  },
  {
   "cell_type": "code",
   "execution_count": null,
   "id": "fc3d00c5",
   "metadata": {},
   "outputs": [],
   "source": [
    "with open (f'{file_dir}wikipedia-movies.json', mode='r') as file:\n",
    "    wiki_movies_raw = json.load(file)"
   ]
  },
  {
   "cell_type": "code",
   "execution_count": null,
   "id": "8655e951",
   "metadata": {},
   "outputs": [],
   "source": [
    "len(wiki_movies_raw)"
   ]
  },
  {
   "cell_type": "markdown",
   "id": "0c4359b8",
   "metadata": {},
   "source": [
    "### *We should always take a look at a few individual records just to make sure that the data didn't come in horribly garbled."
   ]
  },
  {
   "cell_type": "code",
   "execution_count": null,
   "id": "2504ecfc",
   "metadata": {},
   "outputs": [],
   "source": [
    "# First 5 records\n",
    "wiki_movies_raw[:5]"
   ]
  },
  {
   "cell_type": "code",
   "execution_count": null,
   "id": "97215b54",
   "metadata": {},
   "outputs": [],
   "source": [
    "# Last 5 records\n",
    "wiki_movies_raw[:-5]"
   ]
  },
  {
   "cell_type": "code",
   "execution_count": null,
   "id": "0eb5e9ad",
   "metadata": {},
   "outputs": [],
   "source": [
    "# Some records in the middle\n",
    "wiki_movies_raw[3600:3605]"
   ]
  },
  {
   "cell_type": "markdown",
   "id": "3b2e9f0b",
   "metadata": {},
   "source": [
    "# Extract \n",
    "\n",
    "### Extract the Kaggle Data"
   ]
  },
  {
   "cell_type": "code",
   "execution_count": null,
   "id": "20aac9fd",
   "metadata": {},
   "outputs": [],
   "source": [
    "kaggle_metadata = pd.read_csv(f'{file_dir}movies_metadata.csv', low_memory=False)\n",
    "ratings = pd.read_csv(f'{file_dir}ratings.csv')"
   ]
  },
  {
   "cell_type": "markdown",
   "id": "9266c59f",
   "metadata": {},
   "source": [
    "### Inspect the data"
   ]
  },
  {
   "cell_type": "code",
   "execution_count": null,
   "id": "a4ffa81a",
   "metadata": {},
   "outputs": [],
   "source": [
    "kaggle_metadata.head()"
   ]
  },
  {
   "cell_type": "code",
   "execution_count": null,
   "id": "d87b4269",
   "metadata": {},
   "outputs": [],
   "source": [
    "kaggle_metadata.tail()"
   ]
  },
  {
   "cell_type": "code",
   "execution_count": null,
   "id": "82d74f91",
   "metadata": {},
   "outputs": [],
   "source": [
    "kaggle_metadata.sample(5)"
   ]
  },
  {
   "cell_type": "code",
   "execution_count": null,
   "id": "5d4768b3",
   "metadata": {},
   "outputs": [],
   "source": [
    "ratings.head()"
   ]
  },
  {
   "cell_type": "code",
   "execution_count": null,
   "id": "fccd8459",
   "metadata": {},
   "outputs": [],
   "source": [
    "ratings.tail()"
   ]
  },
  {
   "cell_type": "code",
   "execution_count": null,
   "id": "e6e2d705",
   "metadata": {},
   "outputs": [],
   "source": [
    "ratings.sample(5)"
   ]
  },
  {
   "cell_type": "markdown",
   "id": "d3ce4dff",
   "metadata": {},
   "source": [
    "# Transform"
   ]
  },
  {
   "cell_type": "code",
   "execution_count": null,
   "id": "dcb74e32",
   "metadata": {},
   "outputs": [],
   "source": [
    "wiki_movies_raw_df = pd.DataFrame(wiki_movies_raw)\n",
    "wiki_movies_raw_df.head()"
   ]
  },
  {
   "cell_type": "markdown",
   "id": "13a24f29",
   "metadata": {},
   "source": [
    "#### That's a lot of columns! Even if we try to use print(wiki_movies_df.columns), they won't all print out. We'll have to convert wiki_movies_df.columns to a list to see all of the columns.\n",
    "\n",
    "#### Use wiki_movies_df.columns.tolist() and run the cell to see all of the column names that were imported."
   ]
  },
  {
   "cell_type": "code",
   "execution_count": null,
   "id": "2bde969c",
   "metadata": {},
   "outputs": [],
   "source": [
    "wiki_movies_raw_df.columns.tolist()"
   ]
  },
  {
   "cell_type": "markdown",
   "id": "c1315f55",
   "metadata": {},
   "source": [
    "### Use List Comprehensions to Filter Data\n",
    "\n"
   ]
  },
  {
   "cell_type": "code",
   "execution_count": null,
   "id": "6779337d",
   "metadata": {},
   "outputs": [],
   "source": [
    "# filtering by only rows that have data in the columns 'Directed by' and 'imdb_link'.\n",
    "\n",
    "wiki_movies = [movie for movie in wiki_movies_raw\n",
    "                if ('Director' in movie or 'Directed by' in movie)\n",
    "                        and 'imdb_link' in movie]\n",
    "len(wiki_movies)"
   ]
  },
  {
   "cell_type": "code",
   "execution_count": null,
   "id": "d7142b9b",
   "metadata": {},
   "outputs": [],
   "source": [
    "# create a dataframe out of wiki_movies\n",
    "\n",
    "wiki_movies_df = pd.DataFrame(wiki_movies)\n",
    "wiki_movies_df.head()"
   ]
  },
  {
   "cell_type": "code",
   "execution_count": null,
   "id": "97c18cd3",
   "metadata": {},
   "outputs": [],
   "source": [
    "# adding another filter to the list comprehension: filtering out the tv shows.\n",
    "\n",
    "wiki_movies = [movie for movie in wiki_movies_raw\n",
    "                if ('Director' in movie or 'Directed by' in movie)\n",
    "                        and 'imdb_link' in movie\n",
    "                        and 'No. of episodes' not in movie]\n",
    "len(wiki_movies)"
   ]
  },
  {
   "cell_type": "code",
   "execution_count": null,
   "id": "364a8b66",
   "metadata": {},
   "outputs": [],
   "source": [
    "wiki_movies_df.head()"
   ]
  },
  {
   "cell_type": "code",
   "execution_count": null,
   "id": "5d2ce903",
   "metadata": {},
   "outputs": [],
   "source": [
    "def clean_movie(movie):\n",
    "    movie = dict(movie) #create a non-destructive copy\n",
    "    return movie"
   ]
  },
  {
   "cell_type": "code",
   "execution_count": null,
   "id": "e67bb2eb",
   "metadata": {},
   "outputs": [],
   "source": [
    "wiki_movies_df[wiki_movies_df['Arabic'].notnull()]"
   ]
  },
  {
   "cell_type": "code",
   "execution_count": null,
   "id": "4dd7dcd9",
   "metadata": {},
   "outputs": [],
   "source": [
    "wiki_movies_df[wiki_movies_df['Arabic'].notnull()]['url']"
   ]
  },
  {
   "cell_type": "code",
   "execution_count": null,
   "id": "02131d78",
   "metadata": {},
   "outputs": [],
   "source": [
    "sorted(wiki_movies_df.columns.tolist())"
   ]
  },
  {
   "cell_type": "markdown",
   "id": "30453179",
   "metadata": {},
   "source": [
    "### Handle the Alternative Titles \n"
   ]
  },
  {
   "cell_type": "code",
   "execution_count": null,
   "id": "71284311",
   "metadata": {},
   "outputs": [],
   "source": [
    "# Make an empty dict to hold all of the alternative titles.\n",
    "# Loop through a list of all alternative title keys.\n",
    "# Check if the current key exists in the movie object.\n",
    "# If so, remove the key-value pair and add to the alternative titles dictionary.\n",
    "\n",
    "def clean_movie(movie):\n",
    "    movie = dict(movie) #create a non-destructive copy\n",
    "    alt_titles = {}\n",
    "    for key in ['Also known as','Arabic','Cantonese','Chinese','French',\n",
    "                'Hangul','Hebrew','Hepburn','Japanese','Literally',\n",
    "                'Mandarin','McCune–Reischauer','Original title','Polish',\n",
    "                'Revised Romanization','Romanized','Russian',\n",
    "                'Simplified','Traditional','Yiddish']:\n",
    "        \n",
    "        if key in movie:\n",
    "            alt_titles[key] = movie[key]\n",
    "            movie.pop(key)\n",
    "            \n",
    "    return movie"
   ]
  },
  {
   "cell_type": "code",
   "execution_count": null,
   "id": "ff2aff6f",
   "metadata": {},
   "outputs": [],
   "source": [
    "# list of cleaned movies with a list comprehension\n",
    "clean_movies = [clean_movie(movie) for movie in wiki_movies]"
   ]
  },
  {
   "cell_type": "code",
   "execution_count": null,
   "id": "998449e2",
   "metadata": {},
   "outputs": [],
   "source": [
    "# Set wiki_movies_df to be the DataFrame created from clean_movies, and print out a list of the columns.\n",
    "wiki_movies_df = pd.DataFrame(clean_movies)\n",
    "sorted(wiki_movies_df.columns.tolist())"
   ]
  },
  {
   "cell_type": "code",
   "execution_count": 90,
   "id": "23ffc254",
   "metadata": {},
   "outputs": [],
   "source": [
    "   def change_column_name(old_name, new_name):\n",
    "        if old_name in movie:\n",
    "            movie[new_name] = movie.pop(old_name)"
   ]
  },
  {
   "cell_type": "code",
   "execution_count": null,
   "id": "5581ab5a",
   "metadata": {},
   "outputs": [],
   "source": []
  }
 ],
 "metadata": {
  "kernelspec": {
   "display_name": "PythonData",
   "language": "python",
   "name": "pythondata"
  },
  "language_info": {
   "codemirror_mode": {
    "name": "ipython",
    "version": 3
   },
   "file_extension": ".py",
   "mimetype": "text/x-python",
   "name": "python",
   "nbconvert_exporter": "python",
   "pygments_lexer": "ipython3",
   "version": "3.7.11"
  }
 },
 "nbformat": 4,
 "nbformat_minor": 5
}
